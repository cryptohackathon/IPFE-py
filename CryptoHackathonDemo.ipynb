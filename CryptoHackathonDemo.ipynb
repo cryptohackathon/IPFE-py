{
 "cells": [
  {
   "cell_type": "markdown",
   "metadata": {},
   "source": [
    "# Secure Activation function for machine learning "
   ]
  },
  {
   "cell_type": "code",
   "execution_count": 2,
   "metadata": {},
   "outputs": [],
   "source": [
    "import ctypes \n",
    "from gmpy2 import * \n",
    "from numpy.ctypeslib import ndpointer \n",
    "import matplotlib.pyplot as plt\n",
    "import numpy as np \n",
    "from ctypes import * \n",
    "from keras.datasets import mnist\n",
    "import time\n",
    "\n"
   ]
  },
  {
   "cell_type": "code",
   "execution_count": 3,
   "metadata": {},
   "outputs": [],
   "source": [
    "# mission6.so contains the library function for inner product functional encryption\n",
    "lib=ctypes.CDLL(\"./mission6.so\")\n",
    "pyfinal= lib.Final\n"
   ]
  },
  {
   "cell_type": "code",
   "execution_count": 4,
   "metadata": {},
   "outputs": [],
   "source": [
    "# loading MNIST\n",
    "(x_train, y_train), (x_test, y_test) = mnist.load_data()"
   ]
  },
  {
   "cell_type": "code",
   "execution_count": 5,
   "metadata": {},
   "outputs": [],
   "source": [
    "# random w matrix and x vector\n",
    "w=(np.random.rand(25,25)*10).astype('int32')\n",
    "x=np.random.rand(25)*10\n",
    "x=x.astype('int32')"
   ]
  },
  {
   "cell_type": "code",
   "execution_count": 6,
   "metadata": {},
   "outputs": [],
   "source": [
    "pyfinal.argtypes=[ndpointer(ctypes.c_int, flags=\"C_CONTIGUOUS\"), \n",
    "ndpointer(ctypes.c_int, flags=\"C_CONTIGUOUS\"),\n",
    "ctypes.c_size_t,\n",
    "]\n",
    "pyfinal.restype=ctypes.c_int"
   ]
  },
  {
   "cell_type": "code",
   "execution_count": 7,
   "metadata": {},
   "outputs": [],
   "source": [
    "def SecureActivation(w,x): \n",
    "\tresult= np.array([]).astype('int32')\n",
    "\tfor i in range(w.shape[0]):\n",
    "\t\ttemp=pyfinal(w[i],x,x.size)\n",
    "\t\tresult=np.append(result,temp)\n",
    "\treturn result"
   ]
  },
  {
   "cell_type": "code",
   "execution_count": 8,
   "metadata": {},
   "outputs": [
    {
     "data": {
      "text/plain": [
       "array([[2, 7, 3, 3, 3, 8, 9, 0, 8, 0, 8, 8, 7, 6, 7, 1, 7, 7, 2, 4, 1, 9,\n",
       "        5, 9, 9],\n",
       "       [1, 3, 5, 6, 5, 2, 5, 6, 9, 2, 4, 8, 1, 2, 5, 7, 6, 1, 4, 5, 0, 8,\n",
       "        9, 4, 8],\n",
       "       [1, 9, 2, 5, 4, 5, 1, 9, 7, 6, 5, 4, 8, 9, 1, 1, 7, 3, 1, 5, 8, 3,\n",
       "        9, 4, 4],\n",
       "       [5, 7, 8, 5, 9, 9, 5, 5, 5, 4, 9, 3, 2, 2, 9, 6, 7, 8, 6, 0, 4, 3,\n",
       "        8, 6, 4],\n",
       "       [1, 2, 9, 6, 6, 4, 1, 8, 1, 6, 3, 4, 9, 8, 4, 1, 8, 1, 6, 6, 4, 4,\n",
       "        4, 5, 0],\n",
       "       [6, 2, 4, 0, 9, 0, 9, 5, 0, 9, 3, 7, 5, 3, 0, 3, 1, 2, 0, 8, 8, 3,\n",
       "        5, 4, 2],\n",
       "       [2, 7, 5, 1, 8, 0, 7, 3, 2, 6, 8, 6, 5, 1, 1, 4, 5, 8, 6, 1, 3, 0,\n",
       "        3, 7, 6],\n",
       "       [4, 0, 6, 3, 3, 4, 2, 1, 8, 1, 3, 2, 1, 9, 6, 6, 8, 9, 3, 5, 7, 3,\n",
       "        4, 9, 6],\n",
       "       [3, 3, 8, 8, 5, 9, 5, 8, 9, 3, 0, 7, 1, 8, 9, 3, 4, 0, 0, 4, 4, 3,\n",
       "        9, 9, 0],\n",
       "       [6, 7, 6, 3, 1, 8, 3, 4, 2, 7, 4, 1, 2, 7, 4, 8, 1, 4, 3, 7, 6, 5,\n",
       "        0, 3, 3],\n",
       "       [1, 5, 6, 6, 4, 2, 8, 9, 3, 7, 1, 5, 1, 5, 6, 8, 6, 9, 7, 4, 0, 2,\n",
       "        9, 8, 9],\n",
       "       [2, 5, 6, 3, 8, 8, 8, 7, 4, 1, 9, 7, 8, 7, 0, 6, 9, 6, 9, 8, 0, 9,\n",
       "        9, 6, 9],\n",
       "       [0, 5, 1, 8, 4, 0, 0, 2, 9, 5, 9, 7, 9, 0, 2, 1, 2, 3, 4, 3, 8, 9,\n",
       "        6, 7, 2],\n",
       "       [1, 7, 8, 8, 0, 2, 8, 5, 3, 1, 3, 4, 4, 8, 0, 8, 3, 0, 3, 9, 2, 6,\n",
       "        4, 6, 2],\n",
       "       [7, 6, 5, 9, 9, 5, 3, 5, 9, 9, 3, 6, 2, 5, 2, 5, 6, 2, 1, 4, 4, 6,\n",
       "        4, 2, 5],\n",
       "       [5, 6, 3, 8, 2, 9, 2, 9, 8, 3, 3, 4, 8, 7, 5, 9, 4, 9, 4, 2, 6, 2,\n",
       "        0, 0, 5],\n",
       "       [2, 4, 3, 0, 9, 1, 6, 2, 5, 3, 0, 5, 4, 5, 6, 6, 2, 0, 6, 3, 3, 4,\n",
       "        3, 8, 7],\n",
       "       [6, 5, 0, 9, 6, 5, 7, 5, 9, 1, 7, 9, 7, 2, 3, 2, 2, 7, 3, 7, 7, 6,\n",
       "        6, 6, 2],\n",
       "       [1, 9, 5, 5, 8, 4, 9, 7, 8, 7, 1, 1, 0, 1, 7, 4, 7, 7, 7, 6, 0, 3,\n",
       "        9, 0, 9],\n",
       "       [3, 5, 8, 7, 9, 7, 7, 1, 3, 0, 9, 5, 7, 5, 8, 5, 0, 2, 3, 2, 0, 5,\n",
       "        5, 9, 8],\n",
       "       [9, 7, 1, 8, 2, 6, 5, 9, 7, 5, 2, 1, 2, 4, 7, 1, 2, 9, 4, 1, 4, 3,\n",
       "        7, 2, 2],\n",
       "       [6, 1, 5, 0, 5, 8, 7, 0, 8, 4, 1, 3, 0, 6, 5, 3, 1, 6, 6, 9, 8, 1,\n",
       "        7, 3, 3],\n",
       "       [0, 8, 2, 3, 6, 7, 5, 0, 5, 3, 8, 0, 7, 7, 2, 5, 5, 9, 6, 7, 6, 7,\n",
       "        3, 3, 9],\n",
       "       [5, 9, 2, 0, 7, 2, 7, 4, 5, 4, 3, 6, 7, 2, 2, 3, 1, 5, 3, 1, 6, 3,\n",
       "        5, 6, 5],\n",
       "       [7, 3, 7, 4, 9, 1, 6, 9, 8, 7, 0, 0, 7, 1, 2, 1, 5, 3, 9, 1, 2, 4,\n",
       "        5, 9, 7]], dtype=int32)"
      ]
     },
     "execution_count": 8,
     "metadata": {},
     "output_type": "execute_result"
    }
   ],
   "source": [
    "w"
   ]
  },
  {
   "cell_type": "code",
   "execution_count": 9,
   "metadata": {},
   "outputs": [
    {
     "data": {
      "text/plain": [
       "array([9, 9, 4, 9, 4, 9, 6, 5, 2, 5, 5, 9, 7, 2, 0, 0, 9, 9, 9, 0, 8, 4,\n",
       "       3, 9, 7], dtype=int32)"
      ]
     },
     "execution_count": 9,
     "metadata": {},
     "output_type": "execute_result"
    }
   ],
   "source": [
    "x"
   ]
  },
  {
   "cell_type": "markdown",
   "metadata": {},
   "source": [
    "#### Checking the performance of inner product function using functional encryption"
   ]
  },
  {
   "cell_type": "code",
   "execution_count": 10,
   "metadata": {},
   "outputs": [
    {
     "name": "stdout",
     "output_type": "stream",
     "text": [
      "0.04581809043884277\n"
     ]
    }
   ],
   "source": [
    "t=time.time()\n",
    "SecureActivation(w,x)\n",
    "nt=time.time()\n",
    "print(nt - t)"
   ]
  },
  {
   "cell_type": "markdown",
   "metadata": {},
   "source": [
    "#### Checking the performance of dot function in numpy"
   ]
  },
  {
   "cell_type": "code",
   "execution_count": 11,
   "metadata": {},
   "outputs": [
    {
     "name": "stdout",
     "output_type": "stream",
     "text": [
      "0.00014781951904296875\n"
     ]
    }
   ],
   "source": [
    "t=time.time()\n",
    "np.dot(w,x)\n",
    "nt=time.time()\n",
    "print(nt-t)\n"
   ]
  },
  {
   "cell_type": "code",
   "execution_count": 12,
   "metadata": {},
   "outputs": [],
   "source": [
    "x_train=x_train[:500,:,:]"
   ]
  },
  {
   "cell_type": "code",
   "execution_count": 13,
   "metadata": {},
   "outputs": [],
   "source": [
    "x_train = x_train/255"
   ]
  },
  {
   "cell_type": "code",
   "execution_count": 14,
   "metadata": {},
   "outputs": [],
   "source": [
    "#forward\n",
    "weights=np.random.rand(128,784)\n",
    "weights1=(weights*10).astype('int32')"
   ]
  },
  {
   "cell_type": "code",
   "execution_count": 15,
   "metadata": {},
   "outputs": [
    {
     "data": {
      "text/plain": [
       "(128, 784)"
      ]
     },
     "execution_count": 15,
     "metadata": {},
     "output_type": "execute_result"
    }
   ],
   "source": [
    "weights.shape"
   ]
  },
  {
   "cell_type": "code",
   "execution_count": 16,
   "metadata": {},
   "outputs": [],
   "source": [
    "tmp=x_train[0].flatten()\n",
    "tmp1=(tmp*10).astype('int32')"
   ]
  },
  {
   "cell_type": "code",
   "execution_count": 17,
   "metadata": {},
   "outputs": [],
   "source": [
    "res=SecureActivation(weights1,tmp1)"
   ]
  },
  {
   "cell_type": "code",
   "execution_count": 18,
   "metadata": {},
   "outputs": [],
   "source": [
    "res=res/100"
   ]
  },
  {
   "cell_type": "code",
   "execution_count": 19,
   "metadata": {},
   "outputs": [
    {
     "data": {
      "text/plain": [
       "array([45.63, 37.4 , 44.47, 45.35, 47.18, 40.49, 45.5 , 43.42, 43.66,\n",
       "       48.01, 46.3 , 48.57, 43.62, 44.55, 44.56, 44.86, 46.1 , 41.71,\n",
       "       46.47, 42.12, 40.17, 41.23, 42.41, 46.98, 47.78, 50.26, 42.4 ,\n",
       "       43.9 , 46.7 , 43.08, 48.27, 41.28, 44.19, 46.9 , 46.06, 42.63,\n",
       "       44.5 , 44.64, 47.35, 41.79, 41.01, 44.24, 39.22, 42.91, 47.66,\n",
       "       38.96, 45.17, 42.01, 45.85, 39.66, 46.96, 48.17, 46.99, 45.04,\n",
       "       40.99, 45.45, 42.82, 46.14, 44.34, 45.89, 43.77, 45.61, 39.06,\n",
       "       38.71, 40.36, 44.81, 40.18, 41.81, 43.84, 47.31, 43.55, 46.32,\n",
       "       39.93, 43.42, 46.79, 44.98, 40.62, 43.77, 45.63, 39.8 , 42.92,\n",
       "       47.54, 44.86, 45.05, 37.91, 45.14, 43.91, 44.92, 37.95, 43.7 ,\n",
       "       48.51, 47.02, 48.35, 40.69, 42.23, 41.66, 48.97, 43.  , 43.03,\n",
       "       44.53, 45.12, 46.83, 40.1 , 44.66, 40.7 , 43.24, 46.75, 42.34,\n",
       "       45.12, 39.16, 43.17, 44.95, 49.1 , 46.48, 44.05, 44.73, 40.68,\n",
       "       43.89, 41.85, 48.11, 45.51, 45.01, 44.84, 41.58, 40.21, 45.04,\n",
       "       42.39, 40.34])"
      ]
     },
     "execution_count": 19,
     "metadata": {},
     "output_type": "execute_result"
    }
   ],
   "source": [
    "res"
   ]
  },
  {
   "cell_type": "code",
   "execution_count": 20,
   "metadata": {},
   "outputs": [
    {
     "data": {
      "text/plain": [
       "array([55.88256032, 46.7351976 , 54.61853463, 55.77123794, 56.62209342,\n",
       "       50.4229887 , 55.79980187, 53.68605836, 53.56236768, 58.57439247,\n",
       "       56.27598787, 59.25273149, 53.47462218, 54.47914138, 55.00825316,\n",
       "       54.97424633, 56.44364581, 51.47313055, 56.82395541, 52.32672901,\n",
       "       49.93663361, 51.44075871, 52.25127607, 57.36389528, 58.41251086,\n",
       "       61.26007826, 52.41360871, 54.24151763, 56.69239725, 52.79722998,\n",
       "       58.73684237, 51.22718132, 54.82879177, 57.33481154, 56.06939264,\n",
       "       52.41101742, 54.73560779, 54.46834327, 57.4510212 , 51.57728912,\n",
       "       50.7068476 , 54.91686225, 49.16644944, 52.80383127, 58.02384136,\n",
       "       48.78520117, 55.1317421 , 51.86133503, 56.38352794, 48.84575776,\n",
       "       57.36308586, 58.63659128, 57.04796137, 55.03123986, 50.81814554,\n",
       "       55.30292881, 52.84148896, 56.31612571, 54.24804252, 56.33496818,\n",
       "       53.93509312, 56.24609106, 48.80456871, 48.17811915, 50.17124758,\n",
       "       55.23491147, 49.94532994, 51.314269  , 54.1472367 , 57.46944034,\n",
       "       52.82319278, 56.66186903, 49.86744494, 53.04980742, 56.93948099,\n",
       "       55.17001919, 50.44101616, 54.38006762, 55.87164988, 49.82923287,\n",
       "       52.68560116, 57.74877894, 55.50677115, 54.59963066, 47.87021872,\n",
       "       55.14907539, 53.46895895, 54.94318236, 48.03363912, 53.58823029,\n",
       "       59.10946845, 57.08751131, 58.72820254, 50.21871889, 52.25144917,\n",
       "       51.54526805, 59.5170602 , 53.26854149, 53.12031867, 54.20791816,\n",
       "       55.69548027, 56.84844764, 50.14447892, 54.92388164, 50.22607215,\n",
       "       52.34866417, 57.5608868 , 52.73305099, 55.16846154, 48.7428797 ,\n",
       "       53.15566074, 55.48347885, 59.61486991, 56.60362461, 53.99687378,\n",
       "       54.8867425 , 50.01937884, 53.51100758, 51.73968467, 58.81662629,\n",
       "       55.58501103, 55.05189559, 54.97307228, 51.10883236, 49.9594726 ,\n",
       "       54.82322709, 52.5975279 , 50.08856997])"
      ]
     },
     "execution_count": 20,
     "metadata": {},
     "output_type": "execute_result"
    }
   ],
   "source": [
    "np.dot(weights,tmp)"
   ]
  },
  {
   "cell_type": "code",
   "execution_count": null,
   "metadata": {},
   "outputs": [],
   "source": []
  },
  {
   "cell_type": "code",
   "execution_count": null,
   "metadata": {},
   "outputs": [],
   "source": []
  }
 ],
 "metadata": {
  "kernelspec": {
   "display_name": "Python 3",
   "language": "python",
   "name": "python3"
  },
  "language_info": {
   "codemirror_mode": {
    "name": "ipython",
    "version": 3
   },
   "file_extension": ".py",
   "mimetype": "text/x-python",
   "name": "python",
   "nbconvert_exporter": "python",
   "pygments_lexer": "ipython3",
   "version": "3.6.9"
  }
 },
 "nbformat": 4,
 "nbformat_minor": 2
}
